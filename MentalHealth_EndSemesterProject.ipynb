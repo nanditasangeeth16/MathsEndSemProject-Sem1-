{
  "cells": [
    {
      "cell_type": "markdown",
      "metadata": {
        "id": "view-in-github",
        "colab_type": "text"
      },
      "source": [
        "<a href=\"https://colab.research.google.com/github/nanditasangeeth16/MathsEndSemProject-Sem1-/blob/main/MentalHealth_EndSemesterProject.ipynb\" target=\"_parent\"><img src=\"https://colab.research.google.com/assets/colab-badge.svg\" alt=\"Open In Colab\"/></a>"
      ]
    },
    {
      "cell_type": "markdown",
      "metadata": {
        "id": "WEYw3_Mfg8gz"
      },
      "source": [
        "# Library and Data Loading"
      ]
    },
    {
      "cell_type": "code",
      "execution_count": 1,
      "metadata": {
        "colab": {
          "base_uri": "https://localhost:8080/"
        },
        "id": "vHr4XptZmUQ2",
        "outputId": "cb9c24c1-8258-41e2-ef5f-13772d1dc20f"
      },
      "outputs": [
        {
          "output_type": "stream",
          "name": "stdout",
          "text": [
            "Mounted at /content/drive\n"
          ]
        }
      ],
      "source": [
        "from google.colab import drive\n",
        "drive.mount('/content/drive')"
      ]
    },
    {
      "cell_type": "markdown",
      "metadata": {
        "id": "WmpEaYm20cZs"
      },
      "source": [
        "Importing libaries"
      ]
    },
    {
      "cell_type": "code",
      "execution_count": 2,
      "metadata": {
        "id": "B3fxO9_SWmnm"
      },
      "outputs": [],
      "source": [
        "import numpy as np\n",
        "import pandas as pd\n",
        "#plots and graphs\n",
        "import matplotlib.pyplot as plt\n",
        "import seaborn as sns\n",
        "from matplotlib.ticker import MultipleLocator\n",
        "#preparation\n",
        "from sklearn.model_selection import train_test_split\n",
        "#validation\n",
        "from sklearn import metrics\n",
        "from sklearn.metrics import confusion_matrix\n",
        "from sklearn.model_selection import cross_val_score, KFold\n",
        "#algorithms\n",
        "from sklearn.neighbors import KNeighborsClassifier\n",
        "from sklearn.tree import DecisionTreeClassifier\n",
        "from sklearn.naive_bayes import GaussianNB\n",
        "from sklearn.ensemble import RandomForestClassifier\n",
        "from sklearn.ensemble import GradientBoostingClassifier\n",
        "\n",
        "%matplotlib inline"
      ]
    },
    {
      "cell_type": "markdown",
      "metadata": {
        "id": "lpMcnvVF0kjU"
      },
      "source": [
        "Loading dataset"
      ]
    },
    {
      "cell_type": "code",
      "execution_count": 3,
      "metadata": {
        "id": "Bxg8Kt-4W5z3"
      },
      "outputs": [],
      "source": [
        "df = pd.read_csv(\"/content/drive/MyDrive/Mental Health Survey (Responses).csv\")"
      ]
    },
    {
      "cell_type": "markdown",
      "metadata": {
        "id": "S6UFgy8g0FwB"
      },
      "source": [
        "Dataset informations"
      ]
    },
    {
      "cell_type": "code",
      "execution_count": 4,
      "metadata": {
        "colab": {
          "base_uri": "https://localhost:8080/",
          "height": 496
        },
        "id": "IsFflQkkXQ8o",
        "outputId": "8cddc012-cac8-48f3-9570-659b660c7c45"
      },
      "outputs": [
        {
          "output_type": "execute_result",
          "data": {
            "text/html": [
              "\n",
              "  <div id=\"df-c973b28a-0b65-4488-bf97-ef378f6f0876\">\n",
              "    <div class=\"colab-df-container\">\n",
              "      <div>\n",
              "<style scoped>\n",
              "    .dataframe tbody tr th:only-of-type {\n",
              "        vertical-align: middle;\n",
              "    }\n",
              "\n",
              "    .dataframe tbody tr th {\n",
              "        vertical-align: top;\n",
              "    }\n",
              "\n",
              "    .dataframe thead th {\n",
              "        text-align: right;\n",
              "    }\n",
              "</style>\n",
              "<table border=\"1\" class=\"dataframe\">\n",
              "  <thead>\n",
              "    <tr style=\"text-align: right;\">\n",
              "      <th></th>\n",
              "      <th>Timestamp</th>\n",
              "      <th>Gender</th>\n",
              "      <th>Age</th>\n",
              "      <th>Occupation</th>\n",
              "      <th>Sleep</th>\n",
              "      <th>Appetite</th>\n",
              "      <th>PhysicalActivities</th>\n",
              "      <th>StressOrAnxiety</th>\n",
              "      <th>Medications</th>\n",
              "      <th>Fatigue</th>\n",
              "      <th>InterestInThings</th>\n",
              "      <th>SocialMedia</th>\n",
              "      <th>Addiction</th>\n",
              "      <th>WorriesOnMH</th>\n",
              "      <th>SurroundingsMH</th>\n",
              "      <th>TimeWithOthers</th>\n",
              "      <th>NewSkill</th>\n",
              "      <th>OpenedUpMH</th>\n",
              "      <th>TreatmentMH</th>\n",
              "      <th>LockdownMH</th>\n",
              "      <th>Feedback</th>\n",
              "    </tr>\n",
              "  </thead>\n",
              "  <tbody>\n",
              "    <tr>\n",
              "      <th>0</th>\n",
              "      <td>12-30-2021 22:35:19</td>\n",
              "      <td>Female</td>\n",
              "      <td>18-24</td>\n",
              "      <td>Student</td>\n",
              "      <td>5-6 hours</td>\n",
              "      <td>Several days</td>\n",
              "      <td>Not so regularly</td>\n",
              "      <td>Moderate</td>\n",
              "      <td>No</td>\n",
              "      <td>Rarely</td>\n",
              "      <td>Often</td>\n",
              "      <td>Excessive</td>\n",
              "      <td>None</td>\n",
              "      <td>Several days</td>\n",
              "      <td>Yes</td>\n",
              "      <td>Often</td>\n",
              "      <td>No</td>\n",
              "      <td>Yes</td>\n",
              "      <td>No</td>\n",
              "      <td>NaN</td>\n",
              "      <td>NaN</td>\n",
              "    </tr>\n",
              "    <tr>\n",
              "      <th>1</th>\n",
              "      <td>12-30-2021 22:36:29</td>\n",
              "      <td>Female</td>\n",
              "      <td>18-24</td>\n",
              "      <td>Student</td>\n",
              "      <td>8-10 hours</td>\n",
              "      <td>Not at all</td>\n",
              "      <td>Not at all</td>\n",
              "      <td>Mild</td>\n",
              "      <td>No</td>\n",
              "      <td>Always</td>\n",
              "      <td>Sometimes</td>\n",
              "      <td>Normal</td>\n",
              "      <td>None</td>\n",
              "      <td>More than half the days</td>\n",
              "      <td>No</td>\n",
              "      <td>Rarely</td>\n",
              "      <td>Yes</td>\n",
              "      <td>No</td>\n",
              "      <td>No</td>\n",
              "      <td>I dont know</td>\n",
              "      <td>It's ok ...</td>\n",
              "    </tr>\n",
              "    <tr>\n",
              "      <th>2</th>\n",
              "      <td>12-30-2021 22:37:46</td>\n",
              "      <td>Male</td>\n",
              "      <td>18-24</td>\n",
              "      <td>Student</td>\n",
              "      <td>5-6 hours</td>\n",
              "      <td>Several days</td>\n",
              "      <td>Not so regularly</td>\n",
              "      <td>Severe</td>\n",
              "      <td>No</td>\n",
              "      <td>Often</td>\n",
              "      <td>Often</td>\n",
              "      <td>Normal</td>\n",
              "      <td>None</td>\n",
              "      <td>Several days</td>\n",
              "      <td>Yes</td>\n",
              "      <td>Often</td>\n",
              "      <td>Yes</td>\n",
              "      <td>No</td>\n",
              "      <td>No</td>\n",
              "      <td>No effects</td>\n",
              "      <td>👍</td>\n",
              "    </tr>\n",
              "    <tr>\n",
              "      <th>3</th>\n",
              "      <td>12-30-2021 22:40:30</td>\n",
              "      <td>Female</td>\n",
              "      <td>18-24</td>\n",
              "      <td>Student</td>\n",
              "      <td>More than 10 hours</td>\n",
              "      <td>More than half the days</td>\n",
              "      <td>Not so regularly</td>\n",
              "      <td>Severe</td>\n",
              "      <td>No</td>\n",
              "      <td>Often</td>\n",
              "      <td>Sometimes</td>\n",
              "      <td>Excessive</td>\n",
              "      <td>None</td>\n",
              "      <td>More than half the days</td>\n",
              "      <td>Yes</td>\n",
              "      <td>Often</td>\n",
              "      <td>Yes</td>\n",
              "      <td>Yes</td>\n",
              "      <td>Yes</td>\n",
              "      <td>It has made me feel more tired and I am hardly...</td>\n",
              "      <td>NaN</td>\n",
              "    </tr>\n",
              "    <tr>\n",
              "      <th>4</th>\n",
              "      <td>12-30-2021 22:40:31</td>\n",
              "      <td>Female</td>\n",
              "      <td>18-24</td>\n",
              "      <td>Student</td>\n",
              "      <td>5-6 hours</td>\n",
              "      <td>More than half the days</td>\n",
              "      <td>Not so regularly</td>\n",
              "      <td>Severe</td>\n",
              "      <td>No</td>\n",
              "      <td>Often</td>\n",
              "      <td>Rarely</td>\n",
              "      <td>Excessive</td>\n",
              "      <td>None</td>\n",
              "      <td>More than half the days</td>\n",
              "      <td>Yes</td>\n",
              "      <td>Often</td>\n",
              "      <td>No</td>\n",
              "      <td>No</td>\n",
              "      <td>No</td>\n",
              "      <td>Of course</td>\n",
              "      <td>Finally google forms is ready 🌝</td>\n",
              "    </tr>\n",
              "  </tbody>\n",
              "</table>\n",
              "</div>\n",
              "      <button class=\"colab-df-convert\" onclick=\"convertToInteractive('df-c973b28a-0b65-4488-bf97-ef378f6f0876')\"\n",
              "              title=\"Convert this dataframe to an interactive table.\"\n",
              "              style=\"display:none;\">\n",
              "        \n",
              "  <svg xmlns=\"http://www.w3.org/2000/svg\" height=\"24px\"viewBox=\"0 0 24 24\"\n",
              "       width=\"24px\">\n",
              "    <path d=\"M0 0h24v24H0V0z\" fill=\"none\"/>\n",
              "    <path d=\"M18.56 5.44l.94 2.06.94-2.06 2.06-.94-2.06-.94-.94-2.06-.94 2.06-2.06.94zm-11 1L8.5 8.5l.94-2.06 2.06-.94-2.06-.94L8.5 2.5l-.94 2.06-2.06.94zm10 10l.94 2.06.94-2.06 2.06-.94-2.06-.94-.94-2.06-.94 2.06-2.06.94z\"/><path d=\"M17.41 7.96l-1.37-1.37c-.4-.4-.92-.59-1.43-.59-.52 0-1.04.2-1.43.59L10.3 9.45l-7.72 7.72c-.78.78-.78 2.05 0 2.83L4 21.41c.39.39.9.59 1.41.59.51 0 1.02-.2 1.41-.59l7.78-7.78 2.81-2.81c.8-.78.8-2.07 0-2.86zM5.41 20L4 18.59l7.72-7.72 1.47 1.35L5.41 20z\"/>\n",
              "  </svg>\n",
              "      </button>\n",
              "      \n",
              "  <style>\n",
              "    .colab-df-container {\n",
              "      display:flex;\n",
              "      flex-wrap:wrap;\n",
              "      gap: 12px;\n",
              "    }\n",
              "\n",
              "    .colab-df-convert {\n",
              "      background-color: #E8F0FE;\n",
              "      border: none;\n",
              "      border-radius: 50%;\n",
              "      cursor: pointer;\n",
              "      display: none;\n",
              "      fill: #1967D2;\n",
              "      height: 32px;\n",
              "      padding: 0 0 0 0;\n",
              "      width: 32px;\n",
              "    }\n",
              "\n",
              "    .colab-df-convert:hover {\n",
              "      background-color: #E2EBFA;\n",
              "      box-shadow: 0px 1px 2px rgba(60, 64, 67, 0.3), 0px 1px 3px 1px rgba(60, 64, 67, 0.15);\n",
              "      fill: #174EA6;\n",
              "    }\n",
              "\n",
              "    [theme=dark] .colab-df-convert {\n",
              "      background-color: #3B4455;\n",
              "      fill: #D2E3FC;\n",
              "    }\n",
              "\n",
              "    [theme=dark] .colab-df-convert:hover {\n",
              "      background-color: #434B5C;\n",
              "      box-shadow: 0px 1px 3px 1px rgba(0, 0, 0, 0.15);\n",
              "      filter: drop-shadow(0px 1px 2px rgba(0, 0, 0, 0.3));\n",
              "      fill: #FFFFFF;\n",
              "    }\n",
              "  </style>\n",
              "\n",
              "      <script>\n",
              "        const buttonEl =\n",
              "          document.querySelector('#df-c973b28a-0b65-4488-bf97-ef378f6f0876 button.colab-df-convert');\n",
              "        buttonEl.style.display =\n",
              "          google.colab.kernel.accessAllowed ? 'block' : 'none';\n",
              "\n",
              "        async function convertToInteractive(key) {\n",
              "          const element = document.querySelector('#df-c973b28a-0b65-4488-bf97-ef378f6f0876');\n",
              "          const dataTable =\n",
              "            await google.colab.kernel.invokeFunction('convertToInteractive',\n",
              "                                                     [key], {});\n",
              "          if (!dataTable) return;\n",
              "\n",
              "          const docLinkHtml = 'Like what you see? Visit the ' +\n",
              "            '<a target=\"_blank\" href=https://colab.research.google.com/notebooks/data_table.ipynb>data table notebook</a>'\n",
              "            + ' to learn more about interactive tables.';\n",
              "          element.innerHTML = '';\n",
              "          dataTable['output_type'] = 'display_data';\n",
              "          await google.colab.output.renderOutput(dataTable, element);\n",
              "          const docLink = document.createElement('div');\n",
              "          docLink.innerHTML = docLinkHtml;\n",
              "          element.appendChild(docLink);\n",
              "        }\n",
              "      </script>\n",
              "    </div>\n",
              "  </div>\n",
              "  "
            ],
            "text/plain": [
              "             Timestamp  ...                         Feedback\n",
              "0  12-30-2021 22:35:19  ...                              NaN\n",
              "1  12-30-2021 22:36:29  ...                      It's ok ...\n",
              "2  12-30-2021 22:37:46  ...                                👍\n",
              "3  12-30-2021 22:40:30  ...                              NaN\n",
              "4  12-30-2021 22:40:31  ...  Finally google forms is ready 🌝\n",
              "\n",
              "[5 rows x 21 columns]"
            ]
          },
          "metadata": {},
          "execution_count": 4
        }
      ],
      "source": [
        "df.head()"
      ]
    },
    {
      "cell_type": "code",
      "execution_count": 5,
      "metadata": {
        "colab": {
          "base_uri": "https://localhost:8080/"
        },
        "id": "gEDFYTMZZDzd",
        "outputId": "9a87f54b-219e-4fa0-88b1-73539c050977"
      },
      "outputs": [
        {
          "output_type": "stream",
          "name": "stdout",
          "text": [
            "Shape  (534, 21)\n",
            "______________________________________\n",
            "Describe                 Timestamp Gender     Age  ... TreatmentMH LockdownMH Feedback\n",
            "count                534     534    534  ...         534        368      142\n",
            "unique               529       2      6  ...           2        284      101\n",
            "top     01-02-2022 15:42  Female  18-24  ...          No         No     Good\n",
            "freq                   2     294    363  ...         510         33       33\n",
            "\n",
            "[4 rows x 21 columns]\n",
            "______________________________________\n",
            "<class 'pandas.core.frame.DataFrame'>\n",
            "RangeIndex: 534 entries, 0 to 533\n",
            "Data columns (total 21 columns):\n",
            " #   Column              Non-Null Count  Dtype \n",
            "---  ------              --------------  ----- \n",
            " 0   Timestamp           534 non-null    object\n",
            " 1   Gender              534 non-null    object\n",
            " 2   Age                 534 non-null    object\n",
            " 3   Occupation          534 non-null    object\n",
            " 4   Sleep               534 non-null    object\n",
            " 5   Appetite            534 non-null    object\n",
            " 6   PhysicalActivities  534 non-null    object\n",
            " 7   StressOrAnxiety     534 non-null    object\n",
            " 8   Medications         534 non-null    object\n",
            " 9   Fatigue             534 non-null    object\n",
            " 10  InterestInThings    534 non-null    object\n",
            " 11  SocialMedia         534 non-null    object\n",
            " 12  Addiction           534 non-null    object\n",
            " 13  WorriesOnMH         534 non-null    object\n",
            " 14  SurroundingsMH      534 non-null    object\n",
            " 15  TimeWithOthers      534 non-null    object\n",
            " 16  NewSkill            534 non-null    object\n",
            " 17  OpenedUpMH          534 non-null    object\n",
            " 18  TreatmentMH         534 non-null    object\n",
            " 19  LockdownMH          368 non-null    object\n",
            " 20  Feedback            142 non-null    object\n",
            "dtypes: object(21)\n",
            "memory usage: 87.7+ KB\n",
            "Info  None\n"
          ]
        }
      ],
      "source": [
        "print(\"Shape \", df.shape)\n",
        "print(\"______________________________________\")\n",
        "print(\"Describe \", df.describe())\n",
        "print(\"______________________________________\")\n",
        "print(\"Info \", df.info())"
      ]
    },
    {
      "cell_type": "markdown",
      "metadata": {
        "id": "9TNHwF89tqCq"
      },
      "source": [
        "# Data Cleaning and Encoding"
      ]
    },
    {
      "cell_type": "markdown",
      "metadata": {
        "id": "8JkXXNwt1YTD"
      },
      "source": [
        "Missing datas"
      ]
    },
    {
      "cell_type": "code",
      "execution_count": 6,
      "metadata": {
        "colab": {
          "base_uri": "https://localhost:8080/"
        },
        "id": "SOm7TXNBZ0mo",
        "outputId": "de0009a2-c237-4471-8b44-87ec48582a52"
      },
      "outputs": [
        {
          "output_type": "stream",
          "name": "stdout",
          "text": [
            "                    Total   Percent\n",
            "Feedback              392  0.734082\n",
            "LockdownMH            166  0.310861\n",
            "Fatigue                 0  0.000000\n",
            "Gender                  0  0.000000\n",
            "Age                     0  0.000000\n",
            "Occupation              0  0.000000\n",
            "Sleep                   0  0.000000\n",
            "Appetite                0  0.000000\n",
            "PhysicalActivities      0  0.000000\n",
            "StressOrAnxiety         0  0.000000\n",
            "Medications             0  0.000000\n",
            "InterestInThings        0  0.000000\n",
            "SocialMedia             0  0.000000\n",
            "Addiction               0  0.000000\n",
            "WorriesOnMH             0  0.000000\n",
            "SurroundingsMH          0  0.000000\n",
            "TimeWithOthers          0  0.000000\n",
            "NewSkill                0  0.000000\n",
            "OpenedUpMH              0  0.000000\n",
            "TreatmentMH             0  0.000000\n",
            "Timestamp               0  0.000000\n"
          ]
        }
      ],
      "source": [
        "total = df.isnull().sum().sort_values(ascending=False)\n",
        "percent = (df.isnull().sum()/df.isnull().count()).sort_values(ascending=False)\n",
        "missing_data = pd.concat([total, percent], axis=1, keys=['Total', 'Percent'])\n",
        "print(missing_data)"
      ]
    },
    {
      "cell_type": "markdown",
      "metadata": {
        "id": "_FpnT2vV1fWv"
      },
      "source": [
        "Removing undesired columns"
      ]
    },
    {
      "cell_type": "code",
      "execution_count": 7,
      "metadata": {
        "colab": {
          "base_uri": "https://localhost:8080/"
        },
        "id": "UveEMVdsZ5oW",
        "outputId": "7a099a89-6ba6-4fab-c840-54d4ce0ce3b5"
      },
      "outputs": [
        {
          "output_type": "execute_result",
          "data": {
            "text/plain": [
              "0"
            ]
          },
          "metadata": {},
          "execution_count": 7
        }
      ],
      "source": [
        "df = df.drop(['Timestamp'], axis= 1)\n",
        "df = df.drop(['LockdownMH'], axis= 1)\n",
        "df = df.drop(['Feedback'], axis= 1)\n",
        "df.isnull().sum().max()         #just checking that there's no missing data missing..."
      ]
    },
    {
      "cell_type": "code",
      "execution_count": 8,
      "metadata": {
        "colab": {
          "base_uri": "https://localhost:8080/"
        },
        "id": "PORhSfa7aXnd",
        "outputId": "249dd71d-6807-444a-acae-ff9ef4ec8e2e"
      },
      "outputs": [
        {
          "output_type": "stream",
          "name": "stdout",
          "text": [
            "Shape  (534, 18)\n"
          ]
        }
      ],
      "source": [
        "print(\"Shape \", df.shape)"
      ]
    },
    {
      "cell_type": "markdown",
      "metadata": {
        "id": "4qr4Lctl28qK"
      },
      "source": [
        "Cleaning medications"
      ]
    },
    {
      "cell_type": "code",
      "execution_count": 9,
      "metadata": {
        "colab": {
          "base_uri": "https://localhost:8080/"
        },
        "id": "X4r1T7h2abQw",
        "outputId": "1a7105ca-78ef-4572-a911-7054929eeae0"
      },
      "outputs": [
        {
          "output_type": "stream",
          "name": "stdout",
          "text": [
            "['no' 'yes' 'skin issues ' 'hair fall but no medicine' 'asthma'\n",
            " 'taking tablet for bp and sugar' 'depression, ocd' 'bronchial asthma'\n",
            " 'asthma & allergy ' 'hypothyroidism' 'melatonin ' 'hypothyroidism ']\n"
          ]
        }
      ],
      "source": [
        "med = df['Medications'].str.lower()\n",
        "med =  med.unique()             #selecting unique elements\n",
        "print(med)"
      ]
    },
    {
      "cell_type": "code",
      "execution_count": 10,
      "metadata": {
        "colab": {
          "base_uri": "https://localhost:8080/"
        },
        "id": "9nN_uLEZhdYA",
        "outputId": "1f76a274-6398-4927-ae8d-e5815bb6b344"
      },
      "outputs": [
        {
          "output_type": "stream",
          "name": "stdout",
          "text": [
            "['No' 'Yes']\n"
          ]
        }
      ],
      "source": [
        "#changing to either yes or no\n",
        "yes_str = [\"yes\", \"hair fall but no medicine\", \"skin issues \", \"asthma\", \"taking tablet for bp and sugar\",\n",
        "           \"depression, ocd\", \"bronchial asthma\", \"asthma & allergy \", \"hypothyroidism \",\"hypothyroidism\", \"melatonin \"]\n",
        "no_str = [\"no\"]           \n",
        "\n",
        "for (row, col) in df.iterrows():\n",
        "    if str.lower(col.Medications) in yes_str:\n",
        "        df['Medications'].replace(to_replace=col.Medications, value='Yes', inplace=True)\n",
        "    if str.lower(col.Medications) in no_str:\n",
        "        df['Medications'].replace(to_replace=col.Medications, value='No', inplace=True)\n",
        "\n",
        "print(df['Medications'].unique())"
      ]
    },
    {
      "cell_type": "markdown",
      "metadata": {
        "id": "CSF_mg-n2x1E"
      },
      "source": [
        "Encoding data"
      ]
    },
    {
      "cell_type": "code",
      "execution_count": 11,
      "metadata": {
        "colab": {
          "base_uri": "https://localhost:8080/",
          "height": 270
        },
        "id": "BU5Cr6RKabXF",
        "outputId": "fd31159b-7afe-45c4-b2a6-8269333dcbcd"
      },
      "outputs": [
        {
          "output_type": "execute_result",
          "data": {
            "text/html": [
              "\n",
              "  <div id=\"df-50264f7c-3642-44cf-b7df-7fc8d4f71bba\">\n",
              "    <div class=\"colab-df-container\">\n",
              "      <div>\n",
              "<style scoped>\n",
              "    .dataframe tbody tr th:only-of-type {\n",
              "        vertical-align: middle;\n",
              "    }\n",
              "\n",
              "    .dataframe tbody tr th {\n",
              "        vertical-align: top;\n",
              "    }\n",
              "\n",
              "    .dataframe thead th {\n",
              "        text-align: right;\n",
              "    }\n",
              "</style>\n",
              "<table border=\"1\" class=\"dataframe\">\n",
              "  <thead>\n",
              "    <tr style=\"text-align: right;\">\n",
              "      <th></th>\n",
              "      <th>Gender</th>\n",
              "      <th>Age</th>\n",
              "      <th>Occupation</th>\n",
              "      <th>Sleep</th>\n",
              "      <th>Appetite</th>\n",
              "      <th>PhysicalActivities</th>\n",
              "      <th>StressOrAnxiety</th>\n",
              "      <th>Medications</th>\n",
              "      <th>Fatigue</th>\n",
              "      <th>InterestInThings</th>\n",
              "      <th>SocialMedia</th>\n",
              "      <th>Addiction</th>\n",
              "      <th>WorriesOnMH</th>\n",
              "      <th>SurroundingsMH</th>\n",
              "      <th>TimeWithOthers</th>\n",
              "      <th>NewSkill</th>\n",
              "      <th>OpenedUpMH</th>\n",
              "      <th>TreatmentMH</th>\n",
              "    </tr>\n",
              "  </thead>\n",
              "  <tbody>\n",
              "    <tr>\n",
              "      <th>0</th>\n",
              "      <td>2</td>\n",
              "      <td>2</td>\n",
              "      <td>1</td>\n",
              "      <td>2</td>\n",
              "      <td>2</td>\n",
              "      <td>2</td>\n",
              "      <td>3</td>\n",
              "      <td>1</td>\n",
              "      <td>2</td>\n",
              "      <td>4</td>\n",
              "      <td>3</td>\n",
              "      <td>1</td>\n",
              "      <td>2</td>\n",
              "      <td>2</td>\n",
              "      <td>3</td>\n",
              "      <td>1</td>\n",
              "      <td>2</td>\n",
              "      <td>1</td>\n",
              "    </tr>\n",
              "    <tr>\n",
              "      <th>1</th>\n",
              "      <td>2</td>\n",
              "      <td>2</td>\n",
              "      <td>1</td>\n",
              "      <td>4</td>\n",
              "      <td>1</td>\n",
              "      <td>3</td>\n",
              "      <td>2</td>\n",
              "      <td>1</td>\n",
              "      <td>5</td>\n",
              "      <td>3</td>\n",
              "      <td>2</td>\n",
              "      <td>1</td>\n",
              "      <td>3</td>\n",
              "      <td>1</td>\n",
              "      <td>2</td>\n",
              "      <td>2</td>\n",
              "      <td>1</td>\n",
              "      <td>1</td>\n",
              "    </tr>\n",
              "    <tr>\n",
              "      <th>2</th>\n",
              "      <td>1</td>\n",
              "      <td>2</td>\n",
              "      <td>1</td>\n",
              "      <td>2</td>\n",
              "      <td>2</td>\n",
              "      <td>2</td>\n",
              "      <td>4</td>\n",
              "      <td>1</td>\n",
              "      <td>4</td>\n",
              "      <td>4</td>\n",
              "      <td>2</td>\n",
              "      <td>1</td>\n",
              "      <td>2</td>\n",
              "      <td>2</td>\n",
              "      <td>3</td>\n",
              "      <td>2</td>\n",
              "      <td>1</td>\n",
              "      <td>1</td>\n",
              "    </tr>\n",
              "    <tr>\n",
              "      <th>3</th>\n",
              "      <td>2</td>\n",
              "      <td>2</td>\n",
              "      <td>1</td>\n",
              "      <td>5</td>\n",
              "      <td>3</td>\n",
              "      <td>2</td>\n",
              "      <td>4</td>\n",
              "      <td>1</td>\n",
              "      <td>4</td>\n",
              "      <td>3</td>\n",
              "      <td>3</td>\n",
              "      <td>1</td>\n",
              "      <td>3</td>\n",
              "      <td>2</td>\n",
              "      <td>3</td>\n",
              "      <td>2</td>\n",
              "      <td>2</td>\n",
              "      <td>2</td>\n",
              "    </tr>\n",
              "    <tr>\n",
              "      <th>4</th>\n",
              "      <td>2</td>\n",
              "      <td>2</td>\n",
              "      <td>1</td>\n",
              "      <td>2</td>\n",
              "      <td>3</td>\n",
              "      <td>2</td>\n",
              "      <td>4</td>\n",
              "      <td>1</td>\n",
              "      <td>4</td>\n",
              "      <td>2</td>\n",
              "      <td>3</td>\n",
              "      <td>1</td>\n",
              "      <td>3</td>\n",
              "      <td>2</td>\n",
              "      <td>3</td>\n",
              "      <td>1</td>\n",
              "      <td>1</td>\n",
              "      <td>1</td>\n",
              "    </tr>\n",
              "  </tbody>\n",
              "</table>\n",
              "</div>\n",
              "      <button class=\"colab-df-convert\" onclick=\"convertToInteractive('df-50264f7c-3642-44cf-b7df-7fc8d4f71bba')\"\n",
              "              title=\"Convert this dataframe to an interactive table.\"\n",
              "              style=\"display:none;\">\n",
              "        \n",
              "  <svg xmlns=\"http://www.w3.org/2000/svg\" height=\"24px\"viewBox=\"0 0 24 24\"\n",
              "       width=\"24px\">\n",
              "    <path d=\"M0 0h24v24H0V0z\" fill=\"none\"/>\n",
              "    <path d=\"M18.56 5.44l.94 2.06.94-2.06 2.06-.94-2.06-.94-.94-2.06-.94 2.06-2.06.94zm-11 1L8.5 8.5l.94-2.06 2.06-.94-2.06-.94L8.5 2.5l-.94 2.06-2.06.94zm10 10l.94 2.06.94-2.06 2.06-.94-2.06-.94-.94-2.06-.94 2.06-2.06.94z\"/><path d=\"M17.41 7.96l-1.37-1.37c-.4-.4-.92-.59-1.43-.59-.52 0-1.04.2-1.43.59L10.3 9.45l-7.72 7.72c-.78.78-.78 2.05 0 2.83L4 21.41c.39.39.9.59 1.41.59.51 0 1.02-.2 1.41-.59l7.78-7.78 2.81-2.81c.8-.78.8-2.07 0-2.86zM5.41 20L4 18.59l7.72-7.72 1.47 1.35L5.41 20z\"/>\n",
              "  </svg>\n",
              "      </button>\n",
              "      \n",
              "  <style>\n",
              "    .colab-df-container {\n",
              "      display:flex;\n",
              "      flex-wrap:wrap;\n",
              "      gap: 12px;\n",
              "    }\n",
              "\n",
              "    .colab-df-convert {\n",
              "      background-color: #E8F0FE;\n",
              "      border: none;\n",
              "      border-radius: 50%;\n",
              "      cursor: pointer;\n",
              "      display: none;\n",
              "      fill: #1967D2;\n",
              "      height: 32px;\n",
              "      padding: 0 0 0 0;\n",
              "      width: 32px;\n",
              "    }\n",
              "\n",
              "    .colab-df-convert:hover {\n",
              "      background-color: #E2EBFA;\n",
              "      box-shadow: 0px 1px 2px rgba(60, 64, 67, 0.3), 0px 1px 3px 1px rgba(60, 64, 67, 0.15);\n",
              "      fill: #174EA6;\n",
              "    }\n",
              "\n",
              "    [theme=dark] .colab-df-convert {\n",
              "      background-color: #3B4455;\n",
              "      fill: #D2E3FC;\n",
              "    }\n",
              "\n",
              "    [theme=dark] .colab-df-convert:hover {\n",
              "      background-color: #434B5C;\n",
              "      box-shadow: 0px 1px 3px 1px rgba(0, 0, 0, 0.15);\n",
              "      filter: drop-shadow(0px 1px 2px rgba(0, 0, 0, 0.3));\n",
              "      fill: #FFFFFF;\n",
              "    }\n",
              "  </style>\n",
              "\n",
              "      <script>\n",
              "        const buttonEl =\n",
              "          document.querySelector('#df-50264f7c-3642-44cf-b7df-7fc8d4f71bba button.colab-df-convert');\n",
              "        buttonEl.style.display =\n",
              "          google.colab.kernel.accessAllowed ? 'block' : 'none';\n",
              "\n",
              "        async function convertToInteractive(key) {\n",
              "          const element = document.querySelector('#df-50264f7c-3642-44cf-b7df-7fc8d4f71bba');\n",
              "          const dataTable =\n",
              "            await google.colab.kernel.invokeFunction('convertToInteractive',\n",
              "                                                     [key], {});\n",
              "          if (!dataTable) return;\n",
              "\n",
              "          const docLinkHtml = 'Like what you see? Visit the ' +\n",
              "            '<a target=\"_blank\" href=https://colab.research.google.com/notebooks/data_table.ipynb>data table notebook</a>'\n",
              "            + ' to learn more about interactive tables.';\n",
              "          element.innerHTML = '';\n",
              "          dataTable['output_type'] = 'display_data';\n",
              "          await google.colab.output.renderOutput(dataTable, element);\n",
              "          const docLink = document.createElement('div');\n",
              "          docLink.innerHTML = docLinkHtml;\n",
              "          element.appendChild(docLink);\n",
              "        }\n",
              "      </script>\n",
              "    </div>\n",
              "  </div>\n",
              "  "
            ],
            "text/plain": [
              "   Gender   Age  Occupation   ...  NewSkill  OpenedUpMH  TreatmentMH\n",
              "0        2    2            1  ...         1           2            1\n",
              "1        2    2            1  ...         2           1            1\n",
              "2        1    2            1  ...         2           1            1\n",
              "3        2    2            1  ...         2           2            2\n",
              "4        2    2            1  ...         1           1            1\n",
              "\n",
              "[5 rows x 18 columns]"
            ]
          },
          "metadata": {},
          "execution_count": 11
        }
      ],
      "source": [
        "label_dict = {\"Gender \":{\"Male\":1, \"Female\":2, \"Other\":3 },\n",
        "     \"Age\": {\"Dec-17\":1, \"18-24\":2, \"25-34\":3, \"35-44\":4,\"45-54\":5,\n",
        "             \"55 and above\":6},\n",
        "     \"Occupation \":{\"Student\":1, \"Employed\":2, \"Homemaker\":3, \"Unemployed\":4, \n",
        "                   \"Other\":5},\n",
        "     \"Sleep\":{\"Less than 4 hours\":1, \"5-6 hours\":2, \"7-8 hours\":3, \n",
        "              \"8-10 hours\":4, \"More than 10 hours\":5},\n",
        "     \"Appetite\":{\"Not at all\":1, \"Several days\":2, \"More than half the days\":3,\n",
        "                 \"Nearly everyday\":4},\n",
        "     \"PhysicalActivities\":{\"Regularly\":1, \"Not so regularly\":2, \"Not at all\":3},\n",
        "     \"StressOrAnxiety\":{\"None\":1, \"Mild\":2, \"Moderate\":3, \"Severe\":4},\n",
        "     \"Medications\":{\"No\":1,\"Yes\":2},\n",
        "     \"Fatigue\":{\"Never\":1, \"Rarely\":2, \"Sometimes\":3, \"Often\":4, \"Always\":5},\n",
        "     \"InterestInThings\":{\"Never\":1, \"Rarely\":2, \"Sometimes\":3, \"Often\":4, \"Always\":5},\n",
        "     \"SocialMedia\":{\"Minimum\":1, \"Normal\":2, \"Excessive\":3},\n",
        "     \"Addiction\":{\"None\":1, \"Caffeine\":2, \"Alcohol\":3, \"Smoking\":4, \"Drugs\":5},\n",
        "     \"WorriesOnMH\":{\"Not at all\":1, \"Several days\":2, \"More than half the days\":3,\n",
        "                    \"Nearly everyday\":4},\n",
        "     \"SurroundingsMH\":{\"No\":1, \"Yes\":2},\n",
        "     \"TimeWithOthers\":{\"Never\":1, \"Rarely\":2, \"Often\":3},\n",
        "     \"NewSkill\":{\"No\":1, \"Yes\":2},\n",
        "     \"OpenedUpMH\":{\"No\":1, \"Yes\":2},\n",
        "     \"TreatmentMH\":{\"No\":1, \"Yes\":2},\n",
        "     }\n",
        "df = df.replace(label_dict)\n",
        "df.head()"
      ]
    },
    {
      "cell_type": "markdown",
      "metadata": {
        "id": "IebdoXuvuZ9e"
      },
      "source": [
        "# Data Visualisation"
      ]
    },
    {
      "cell_type": "markdown",
      "metadata": {
        "id": "rBWaZn513Lr9"
      },
      "source": [
        "Correlation matrix"
      ]
    },
    {
      "cell_type": "code",
      "execution_count": 12,
      "metadata": {
        "colab": {
          "base_uri": "https://localhost:8080/",
          "height": 346
        },
        "id": "ZPuYX3IfuNxU",
        "outputId": "263af23f-684c-429e-8721-9a318aa88192"
      },
      "outputs": [
        {
          "output_type": "display_data",
          "data": {
            "image/png": "[encoded data removed]",
            "text/plain": [
              "<Figure size 432x288 with 2 Axes>"
            ]
          },
          "metadata": {
            "needs_background": "light"
          }
        }
      ],
      "source": [
        "corrmat = df.corr()\n",
        "sns.heatmap(corrmat, vmax=.8, square=True);\n",
        "plt.show()"
      ]
    },
    {
      "cell_type": "markdown",
      "metadata": {
        "id": "m7e94xr33pof"
      },
      "source": [
        "Distribution graphs"
      ]
    },
    {
      "cell_type": "code",
      "execution_count": 13,
      "metadata": {
        "colab": {
          "base_uri": "https://localhost:8080/",
          "height": 295
        },
        "id": "ret6LywUSCav",
        "outputId": "8df96645-dee6-4e26-c304-8b8a7f0458fa"
      },
      "outputs": [
        {
          "output_type": "display_data",
          "data": {
            "image/png": "[encoded data removed]",
            "text/plain": [
              "<Figure size 432x288 with 1 Axes>"
            ]
          },
          "metadata": {
            "needs_background": "light"
          }
        }
      ],
      "source": [
        "labels = label_dict['Gender ']\n",
        "g = sns.countplot(x=\"Gender \", data=df, palette=\"rocket\")\n",
        "g.set_xticklabels(labels)\n",
        "plt.title('Total Distribuition of Gender')\n",
        "plt.show()"
      ]
    },
    {
      "cell_type": "code",
      "execution_count": 14,
      "metadata": {
        "colab": {
          "base_uri": "https://localhost:8080/",
          "height": 295
        },
        "id": "04JNBBE3TZFy",
        "outputId": "a61324f5-5d75-4cac-ec57-87cb4f2564b4"
      },
      "outputs": [
        {
          "output_type": "display_data",
          "data": {
            "image/png": "[encoded data removed]",
            "text/plain": [
              "<Figure size 432x288 with 1 Axes>"
            ]
          },
          "metadata": {
            "needs_background": "light"
          }
        }
      ],
      "source": [
        "labels = label_dict['Age']\n",
        "g = sns.countplot(x=\"Age\", data=df, palette=\"rocket\")\n",
        "g.set_xticklabels(labels)\n",
        "plt.title('Total Distribuition of Age')\n",
        "plt.show()"
      ]
    },
    {
      "cell_type": "code",
      "execution_count": 15,
      "metadata": {
        "colab": {
          "base_uri": "https://localhost:8080/",
          "height": 295
        },
        "id": "RdILL7f0UEvW",
        "outputId": "f975519b-b0f7-4a94-f79f-ad8049c22822"
      },
      "outputs": [
        {
          "output_type": "display_data",
          "data": {
            "image/png": "[encoded data removed]",
            "text/plain": [
              "<Figure size 432x288 with 1 Axes>"
            ]
          },
          "metadata": {
            "needs_background": "light"
          }
        }
      ],
      "source": [
        "labels = label_dict['Occupation ']\n",
        "g = sns.countplot(x=\"Occupation \", data=df, palette=\"rocket\")\n",
        "g.set_xticklabels(labels)\n",
        "plt.title('Total Distribuition of Occupation')\n",
        "plt.show()"
      ]
    },
    {
      "cell_type": "code",
      "execution_count": 16,
      "metadata": {
        "colab": {
          "base_uri": "https://localhost:8080/",
          "height": 295
        },
        "id": "gy-EFJE4wPJx",
        "outputId": "cb241991-2f7b-4568-8ec2-64c81d5debed"
      },
      "outputs": [
        {
          "output_type": "display_data",
          "data": {
            "image/png": "[encoded data removed]",
            "text/plain": [
              "<Figure size 432x288 with 1 Axes>"
            ]
          },
          "metadata": {
            "needs_background": "light"
          }
        }
      ],
      "source": [
        "labels = label_dict['Sleep']\n",
        "g = sns.countplot(x=\"Sleep\", data=df, palette=\"rocket\")\n",
        "g.set_xticklabels(labels)\n",
        "plt.title('Total Distribuition of Sleep Hours')\n",
        "plt.show()"
      ]
    },
    {
      "cell_type": "code",
      "execution_count": 17,
      "metadata": {
        "colab": {
          "base_uri": "https://localhost:8080/",
          "height": 350
        },
        "id": "EQwxgdClweNy",
        "outputId": "01999f0b-4f5d-4fe0-a965-9a371484fb42"
      },
      "outputs": [
        {
          "output_type": "display_data",
          "data": {
            "image/png": "[encoded data removed]",
            "text/plain": [
              "<Figure size 648x360 with 1 Axes>"
            ]
          },
          "metadata": {
            "needs_background": "light"
          }
        }
      ],
      "source": [
        "plt.figure(figsize=(9,5))\n",
        "labels = label_dict['Appetite']\n",
        "g = sns.countplot(x=\"Appetite\", data=df, palette=\"rocket\")\n",
        "g.set_xticklabels(labels)\n",
        "plt.title('Total Distribuition of Appetite')\n",
        "plt.show()"
      ]
    },
    {
      "cell_type": "code",
      "execution_count": 18,
      "metadata": {
        "colab": {
          "base_uri": "https://localhost:8080/",
          "height": 295
        },
        "id": "_vS-MXsXwiwx",
        "outputId": "9943e1c7-0870-4e1f-c617-84bf5da185cc"
      },
      "outputs": [
        {
          "output_type": "display_data",
          "data": {
            "image/png": "[encoded data removed]",
            "text/plain": [
              "<Figure size 432x288 with 1 Axes>"
            ]
          },
          "metadata": {
            "needs_background": "light"
          }
        }
      ],
      "source": [
        "labels = label_dict['PhysicalActivities']\n",
        "g = sns.countplot(x=\"PhysicalActivities\", data=df,palette=\"rocket\")\n",
        "g.set_xticklabels(labels)\n",
        "plt.title('Total Distribuition of PhysicalActivities')\n",
        "plt.show()"
      ]
    },
    {
      "cell_type": "code",
      "execution_count": 19,
      "metadata": {
        "colab": {
          "base_uri": "https://localhost:8080/",
          "height": 295
        },
        "id": "nExRGEXkwksB",
        "outputId": "372c5e7b-372a-40d1-ae85-0fd43ffc043c"
      },
      "outputs": [
        {
          "output_type": "display_data",
          "data": {
            "image/png": "[encoded data removed]",
            "text/plain": [
              "<Figure size 432x288 with 1 Axes>"
            ]
          },
          "metadata": {
            "needs_background": "light"
          }
        }
      ],
      "source": [
        "labels = label_dict['StressOrAnxiety']\n",
        "g = sns.countplot(x=\"StressOrAnxiety\", data=df, palette=\"rocket\")\n",
        "g.set_xticklabels(labels)\n",
        "plt.title('Total Distribuition of StressOrAnxiety')\n",
        "plt.show()"
      ]
    },
    {
      "cell_type": "code",
      "execution_count": 20,
      "metadata": {
        "colab": {
          "base_uri": "https://localhost:8080/",
          "height": 295
        },
        "id": "_LeX7lDEUdKu",
        "outputId": "7a0fcb97-f4c0-4757-bc78-3b497b94d81b"
      },
      "outputs": [
        {
          "output_type": "display_data",
          "data": {
            "image/png": "[encoded data removed]",
            "text/plain": [
              "<Figure size 432x288 with 1 Axes>"
            ]
          },
          "metadata": {
            "needs_background": "light"
          }
        }
      ],
      "source": [
        "labels = label_dict['Medications']\n",
        "g = sns.countplot(x=\"Medications\", data=df, palette=\"rocket\")\n",
        "g.set_xticklabels(labels)\n",
        "plt.title('Total Distribuition of Medications')\n",
        "plt.show()"
      ]
    },
    {
      "cell_type": "code",
      "execution_count": 21,
      "metadata": {
        "colab": {
          "base_uri": "https://localhost:8080/",
          "height": 295
        },
        "id": "W6INsXPsw4_Z",
        "outputId": "2e091e21-3f76-45bc-f81a-901f07c4644b"
      },
      "outputs": [
        {
          "output_type": "display_data",
          "data": {
            "image/png": "[encoded data removed]",
            "text/plain": [
              "<Figure size 432x288 with 1 Axes>"
            ]
          },
          "metadata": {
            "needs_background": "light"
          }
        }
      ],
      "source": [
        "labels = label_dict['Fatigue']\n",
        "g = sns.countplot(x=\"Fatigue\", data=df, palette=\"rocket\")\n",
        "g.set_xticklabels(labels)\n",
        "plt.title('Total Distribuition of Fatigue')\n",
        "plt.show()"
      ]
    },
    {
      "cell_type": "code",
      "execution_count": 22,
      "metadata": {
        "colab": {
          "base_uri": "https://localhost:8080/",
          "height": 295
        },
        "id": "UgKPKoTnw80J",
        "outputId": "0a0aab82-e367-4665-8641-13b252ed2f32"
      },
      "outputs": [
        {
          "output_type": "display_data",
          "data": {
            "image/png": "[encoded data removed]",
            "text/plain": [
              "<Figure size 432x288 with 1 Axes>"
            ]
          },
          "metadata": {
            "needs_background": "light"
          }
        }
      ],
      "source": [
        "labels = label_dict['InterestInThings']\n",
        "g = sns.countplot(x=\"InterestInThings\", data=df, palette=\"rocket\")\n",
        "g.set_xticklabels(labels)\n",
        "plt.title('Total Distribuition of InterestInThings')\n",
        "plt.show()"
      ]
    },
    {
      "cell_type": "code",
      "execution_count": 23,
      "metadata": {
        "colab": {
          "base_uri": "https://localhost:8080/",
          "height": 295
        },
        "id": "Aq4begqRxDIH",
        "outputId": "95c3fd14-0e1a-4631-e070-ec60a34fac78"
      },
      "outputs": [
        {
          "output_type": "display_data",
          "data": {
            "image/png": "[encoded data removed]",
            "text/plain": [
              "<Figure size 432x288 with 1 Axes>"
            ]
          },
          "metadata": {
            "needs_background": "light"
          }
        }
      ],
      "source": [
        "labels = label_dict['SocialMedia']\n",
        "g = sns.countplot(x=\"SocialMedia\", data=df, palette=\"rocket\")\n",
        "g.set_xticklabels(labels)\n",
        "plt.title('Total Distribuition of SocialMedia')\n",
        "plt.show()"
      ]
    },
    {
      "cell_type": "code",
      "execution_count": 24,
      "metadata": {
        "colab": {
          "base_uri": "https://localhost:8080/",
          "height": 295
        },
        "id": "BkU4hs2dxRSo",
        "outputId": "e3090460-3801-4968-8b2d-414cdbf25b0b"
      },
      "outputs": [
        {
          "output_type": "display_data",
          "data": {
            "image/png": "[encoded data removed]",
            "text/plain": [
              "<Figure size 432x288 with 1 Axes>"
            ]
          },
          "metadata": {
            "needs_background": "light"
          }
        }
      ],
      "source": [
        "labels = label_dict['Addiction']\n",
        "g = sns.countplot(x=\"Addiction\", data=df, palette=\"rocket\")\n",
        "g.set_xticklabels(labels)\n",
        "plt.title('Total Distribuition of Addiction ')\n",
        "plt.show()"
      ]
    },
    {
      "cell_type": "code",
      "execution_count": 25,
      "metadata": {
        "colab": {
          "base_uri": "https://localhost:8080/",
          "height": 295
        },
        "id": "OfU8rtCmxgf7",
        "outputId": "787a8b9b-7fca-478d-e6f3-fc2fb4cfc78b"
      },
      "outputs": [
        {
          "output_type": "display_data",
          "data": {
            "image/png": "[encoded data removed]",
            "text/plain": [
              "<Figure size 432x288 with 1 Axes>"
            ]
          },
          "metadata": {
            "needs_background": "light"
          }
        }
      ],
      "source": [
        "labels = label_dict['WorriesOnMH']\n",
        "g = sns.countplot(x=\"WorriesOnMH\", data=df, palette=\"rocket\")\n",
        "g.set_xticklabels(labels)\n",
        "plt.title('Total Distribuition of WorriesOnMH ')\n",
        "plt.show()"
      ]
    },
    {
      "cell_type": "code",
      "execution_count": 26,
      "metadata": {
        "colab": {
          "base_uri": "https://localhost:8080/",
          "height": 295
        },
        "id": "JyY6Y1elxkcd",
        "outputId": "1f7ac471-c2df-4804-84ef-4c3b94d629ae"
      },
      "outputs": [
        {
          "output_type": "display_data",
          "data": {
            "image/png": "[encoded data removed]",
            "text/plain": [
              "<Figure size 432x288 with 1 Axes>"
            ]
          },
          "metadata": {
            "needs_background": "light"
          }
        }
      ],
      "source": [
        "labels = label_dict['SurroundingsMH']\n",
        "g = sns.countplot(x=\"SurroundingsMH\", data=df, palette=\"rocket\")\n",
        "g.set_xticklabels(labels)\n",
        "plt.title('Total Distribuition of SurroundingsMH')\n",
        "plt.show()"
      ]
    },
    {
      "cell_type": "code",
      "execution_count": 27,
      "metadata": {
        "colab": {
          "base_uri": "https://localhost:8080/",
          "height": 295
        },
        "id": "5bYS_mkyxq4Z",
        "outputId": "f621fb8a-d388-47a3-cdf7-c7417d929275"
      },
      "outputs": [
        {
          "output_type": "display_data",
          "data": {
            "image/png": "[encoded data removed]",
            "text/plain": [
              "<Figure size 432x288 with 1 Axes>"
            ]
          },
          "metadata": {
            "needs_background": "light"
          }
        }
      ],
      "source": [
        "labels = label_dict['TimeWithOthers']\n",
        "g = sns.countplot(x=\"TimeWithOthers\", data=df, palette=\"rocket\")\n",
        "g.set_xticklabels(labels)\n",
        "plt.title('Total Distribuition of TimeWithOthers')\n",
        "plt.show()"
      ]
    },
    {
      "cell_type": "code",
      "execution_count": 28,
      "metadata": {
        "colab": {
          "base_uri": "https://localhost:8080/",
          "height": 295
        },
        "id": "XgTLXyz7xwXy",
        "outputId": "920164b0-64b6-42fc-b3f4-fe141f648987"
      },
      "outputs": [
        {
          "output_type": "display_data",
          "data": {
            "image/png": "[encoded data removed]",
            "text/plain": [
              "<Figure size 432x288 with 1 Axes>"
            ]
          },
          "metadata": {
            "needs_background": "light"
          }
        }
      ],
      "source": [
        "labels = label_dict['NewSkill']\n",
        "g = sns.countplot(x=\"NewSkill\", data=df, palette=\"rocket\")\n",
        "g.set_xticklabels(labels)\n",
        "plt.title('Total Distribuition of NewSkill')\n",
        "plt.show()"
      ]
    },
    {
      "cell_type": "code",
      "execution_count": 29,
      "metadata": {
        "colab": {
          "base_uri": "https://localhost:8080/",
          "height": 295
        },
        "id": "TJSgXZ0Px2JB",
        "outputId": "8786a54f-913b-455f-b37b-b0885ed89e2b"
      },
      "outputs": [
        {
          "output_type": "display_data",
          "data": {
            "image/png": "[encoded data removed]",
            "text/plain": [
              "<Figure size 432x288 with 1 Axes>"
            ]
          },
          "metadata": {
            "needs_background": "light"
          }
        }
      ],
      "source": [
        "labels = label_dict['OpenedUpMH']\n",
        "g = sns.countplot(x=\"OpenedUpMH\", data=df, palette=\"rocket\")\n",
        "g.set_xticklabels(labels)\n",
        "plt.title('Total Distribuition of OpenedUpMH')\n",
        "plt.show()"
      ]
    },
    {
      "cell_type": "code",
      "execution_count": 30,
      "metadata": {
        "colab": {
          "base_uri": "https://localhost:8080/",
          "height": 295
        },
        "id": "heSllOcox6pK",
        "outputId": "fe150d9c-373c-46e2-e828-544d865bace7"
      },
      "outputs": [
        {
          "output_type": "display_data",
          "data": {
            "image/png": "[encoded data removed]",
            "text/plain": [
              "<Figure size 432x288 with 1 Axes>"
            ]
          },
          "metadata": {
            "needs_background": "light"
          }
        }
      ],
      "source": [
        "labels = label_dict['TreatmentMH']\n",
        "g = sns.countplot(x=\"TreatmentMH\", data=df, palette=\"rocket\")\n",
        "g.set_xticklabels(labels)\n",
        "plt.title('Total Distribuition of TreatmentMH')\n",
        "plt.show()"
      ]
    },
    {
      "cell_type": "markdown",
      "metadata": {
        "id": "pU-RNd55w3Jb"
      },
      "source": [
        "# Algorithm Creation"
      ]
    },
    {
      "cell_type": "markdown",
      "metadata": {
        "id": "OmS5ZREWKMkz"
      },
      "source": [
        "Algorithm Logic\n",
        "\n",
        "For the alorithm 7 features are selected and each options are given particular value. Values for all the 7 features are added up and according to the end sum its placed under 1 of the 3 groups made.\n",
        "\n",
        "Table\n",
        "\n",
        "![table_algo.png](data:image/png;base64,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)\n",
        "\n",
        "<!-- ![picture](https://drive.google.com/uc?id=1bqktqL8NwqMOBZyMuG0ebdv6jT7_AjIZ)\n",
        "<img src=\"https://drive.google.com/uc?id=1bqktqL8NwqMOBZyMuG0ebdv6jT7_AjIZ\"> -->\n",
        " \n"
      ]
    },
    {
      "cell_type": "code",
      "execution_count": 31,
      "metadata": {
        "colab": {
          "base_uri": "https://localhost:8080/",
          "height": 270
        },
        "id": "IEon27cMabda",
        "outputId": "a966c21c-c15c-43e2-a279-0f06cee91843"
      },
      "outputs": [
        {
          "output_type": "execute_result",
          "data": {
            "text/html": [
              "\n",
              "  <div id=\"df-674d423c-ba2c-41d8-be92-3c20e4fdc0f8\">\n",
              "    <div class=\"colab-df-container\">\n",
              "      <div>\n",
              "<style scoped>\n",
              "    .dataframe tbody tr th:only-of-type {\n",
              "        vertical-align: middle;\n",
              "    }\n",
              "\n",
              "    .dataframe tbody tr th {\n",
              "        vertical-align: top;\n",
              "    }\n",
              "\n",
              "    .dataframe thead th {\n",
              "        text-align: right;\n",
              "    }\n",
              "</style>\n",
              "<table border=\"1\" class=\"dataframe\">\n",
              "  <thead>\n",
              "    <tr style=\"text-align: right;\">\n",
              "      <th></th>\n",
              "      <th>Gender</th>\n",
              "      <th>Age</th>\n",
              "      <th>Occupation</th>\n",
              "      <th>Sleep</th>\n",
              "      <th>Appetite</th>\n",
              "      <th>PhysicalActivities</th>\n",
              "      <th>StressOrAnxiety</th>\n",
              "      <th>Medications</th>\n",
              "      <th>Fatigue</th>\n",
              "      <th>InterestInThings</th>\n",
              "      <th>SocialMedia</th>\n",
              "      <th>Addiction</th>\n",
              "      <th>WorriesOnMH</th>\n",
              "      <th>SurroundingsMH</th>\n",
              "      <th>TimeWithOthers</th>\n",
              "      <th>NewSkill</th>\n",
              "      <th>OpenedUpMH</th>\n",
              "      <th>TreatmentMH</th>\n",
              "      <th>CalculatedMH</th>\n",
              "    </tr>\n",
              "  </thead>\n",
              "  <tbody>\n",
              "    <tr>\n",
              "      <th>0</th>\n",
              "      <td>2</td>\n",
              "      <td>2</td>\n",
              "      <td>1</td>\n",
              "      <td>2</td>\n",
              "      <td>2</td>\n",
              "      <td>2</td>\n",
              "      <td>3</td>\n",
              "      <td>1</td>\n",
              "      <td>2</td>\n",
              "      <td>4</td>\n",
              "      <td>3</td>\n",
              "      <td>1</td>\n",
              "      <td>2</td>\n",
              "      <td>2</td>\n",
              "      <td>3</td>\n",
              "      <td>1</td>\n",
              "      <td>2</td>\n",
              "      <td>1</td>\n",
              "      <td>0</td>\n",
              "    </tr>\n",
              "    <tr>\n",
              "      <th>1</th>\n",
              "      <td>2</td>\n",
              "      <td>2</td>\n",
              "      <td>1</td>\n",
              "      <td>4</td>\n",
              "      <td>1</td>\n",
              "      <td>3</td>\n",
              "      <td>2</td>\n",
              "      <td>1</td>\n",
              "      <td>5</td>\n",
              "      <td>3</td>\n",
              "      <td>2</td>\n",
              "      <td>1</td>\n",
              "      <td>3</td>\n",
              "      <td>1</td>\n",
              "      <td>2</td>\n",
              "      <td>2</td>\n",
              "      <td>1</td>\n",
              "      <td>1</td>\n",
              "      <td>1</td>\n",
              "    </tr>\n",
              "    <tr>\n",
              "      <th>2</th>\n",
              "      <td>1</td>\n",
              "      <td>2</td>\n",
              "      <td>1</td>\n",
              "      <td>2</td>\n",
              "      <td>2</td>\n",
              "      <td>2</td>\n",
              "      <td>4</td>\n",
              "      <td>1</td>\n",
              "      <td>4</td>\n",
              "      <td>4</td>\n",
              "      <td>2</td>\n",
              "      <td>1</td>\n",
              "      <td>2</td>\n",
              "      <td>2</td>\n",
              "      <td>3</td>\n",
              "      <td>2</td>\n",
              "      <td>1</td>\n",
              "      <td>1</td>\n",
              "      <td>1</td>\n",
              "    </tr>\n",
              "    <tr>\n",
              "      <th>3</th>\n",
              "      <td>2</td>\n",
              "      <td>2</td>\n",
              "      <td>1</td>\n",
              "      <td>5</td>\n",
              "      <td>3</td>\n",
              "      <td>2</td>\n",
              "      <td>4</td>\n",
              "      <td>1</td>\n",
              "      <td>4</td>\n",
              "      <td>3</td>\n",
              "      <td>3</td>\n",
              "      <td>1</td>\n",
              "      <td>3</td>\n",
              "      <td>2</td>\n",
              "      <td>3</td>\n",
              "      <td>2</td>\n",
              "      <td>2</td>\n",
              "      <td>2</td>\n",
              "      <td>1</td>\n",
              "    </tr>\n",
              "    <tr>\n",
              "      <th>4</th>\n",
              "      <td>2</td>\n",
              "      <td>2</td>\n",
              "      <td>1</td>\n",
              "      <td>2</td>\n",
              "      <td>3</td>\n",
              "      <td>2</td>\n",
              "      <td>4</td>\n",
              "      <td>1</td>\n",
              "      <td>4</td>\n",
              "      <td>2</td>\n",
              "      <td>3</td>\n",
              "      <td>1</td>\n",
              "      <td>3</td>\n",
              "      <td>2</td>\n",
              "      <td>3</td>\n",
              "      <td>1</td>\n",
              "      <td>1</td>\n",
              "      <td>1</td>\n",
              "      <td>1</td>\n",
              "    </tr>\n",
              "  </tbody>\n",
              "</table>\n",
              "</div>\n",
              "      <button class=\"colab-df-convert\" onclick=\"convertToInteractive('df-674d423c-ba2c-41d8-be92-3c20e4fdc0f8')\"\n",
              "              title=\"Convert this dataframe to an interactive table.\"\n",
              "              style=\"display:none;\">\n",
              "        \n",
              "  <svg xmlns=\"http://www.w3.org/2000/svg\" height=\"24px\"viewBox=\"0 0 24 24\"\n",
              "       width=\"24px\">\n",
              "    <path d=\"M0 0h24v24H0V0z\" fill=\"none\"/>\n",
              "    <path d=\"M18.56 5.44l.94 2.06.94-2.06 2.06-.94-2.06-.94-.94-2.06-.94 2.06-2.06.94zm-11 1L8.5 8.5l.94-2.06 2.06-.94-2.06-.94L8.5 2.5l-.94 2.06-2.06.94zm10 10l.94 2.06.94-2.06 2.06-.94-2.06-.94-.94-2.06-.94 2.06-2.06.94z\"/><path d=\"M17.41 7.96l-1.37-1.37c-.4-.4-.92-.59-1.43-.59-.52 0-1.04.2-1.43.59L10.3 9.45l-7.72 7.72c-.78.78-.78 2.05 0 2.83L4 21.41c.39.39.9.59 1.41.59.51 0 1.02-.2 1.41-.59l7.78-7.78 2.81-2.81c.8-.78.8-2.07 0-2.86zM5.41 20L4 18.59l7.72-7.72 1.47 1.35L5.41 20z\"/>\n",
              "  </svg>\n",
              "      </button>\n",
              "      \n",
              "  <style>\n",
              "    .colab-df-container {\n",
              "      display:flex;\n",
              "      flex-wrap:wrap;\n",
              "      gap: 12px;\n",
              "    }\n",
              "\n",
              "    .colab-df-convert {\n",
              "      background-color: #E8F0FE;\n",
              "      border: none;\n",
              "      border-radius: 50%;\n",
              "      cursor: pointer;\n",
              "      display: none;\n",
              "      fill: #1967D2;\n",
              "      height: 32px;\n",
              "      padding: 0 0 0 0;\n",
              "      width: 32px;\n",
              "    }\n",
              "\n",
              "    .colab-df-convert:hover {\n",
              "      background-color: #E2EBFA;\n",
              "      box-shadow: 0px 1px 2px rgba(60, 64, 67, 0.3), 0px 1px 3px 1px rgba(60, 64, 67, 0.15);\n",
              "      fill: #174EA6;\n",
              "    }\n",
              "\n",
              "    [theme=dark] .colab-df-convert {\n",
              "      background-color: #3B4455;\n",
              "      fill: #D2E3FC;\n",
              "    }\n",
              "\n",
              "    [theme=dark] .colab-df-convert:hover {\n",
              "      background-color: #434B5C;\n",
              "      box-shadow: 0px 1px 3px 1px rgba(0, 0, 0, 0.15);\n",
              "      filter: drop-shadow(0px 1px 2px rgba(0, 0, 0, 0.3));\n",
              "      fill: #FFFFFF;\n",
              "    }\n",
              "  </style>\n",
              "\n",
              "      <script>\n",
              "        const buttonEl =\n",
              "          document.querySelector('#df-674d423c-ba2c-41d8-be92-3c20e4fdc0f8 button.colab-df-convert');\n",
              "        buttonEl.style.display =\n",
              "          google.colab.kernel.accessAllowed ? 'block' : 'none';\n",
              "\n",
              "        async function convertToInteractive(key) {\n",
              "          const element = document.querySelector('#df-674d423c-ba2c-41d8-be92-3c20e4fdc0f8');\n",
              "          const dataTable =\n",
              "            await google.colab.kernel.invokeFunction('convertToInteractive',\n",
              "                                                     [key], {});\n",
              "          if (!dataTable) return;\n",
              "\n",
              "          const docLinkHtml = 'Like what you see? Visit the ' +\n",
              "            '<a target=\"_blank\" href=https://colab.research.google.com/notebooks/data_table.ipynb>data table notebook</a>'\n",
              "            + ' to learn more about interactive tables.';\n",
              "          element.innerHTML = '';\n",
              "          dataTable['output_type'] = 'display_data';\n",
              "          await google.colab.output.renderOutput(dataTable, element);\n",
              "          const docLink = document.createElement('div');\n",
              "          docLink.innerHTML = docLinkHtml;\n",
              "          element.appendChild(docLink);\n",
              "        }\n",
              "      </script>\n",
              "    </div>\n",
              "  </div>\n",
              "  "
            ],
            "text/plain": [
              "   Gender   Age  Occupation   ...  OpenedUpMH  TreatmentMH  CalculatedMH\n",
              "0        2    2            1  ...           2            1             0\n",
              "1        2    2            1  ...           1            1             1\n",
              "2        1    2            1  ...           1            1             1\n",
              "3        2    2            1  ...           2            2             1\n",
              "4        2    2            1  ...           1            1             1\n",
              "\n",
              "[5 rows x 19 columns]"
            ]
          },
          "metadata": {},
          "execution_count": 31
        }
      ],
      "source": [
        "group=[]\n",
        "for i in df.index:\n",
        "  sum=0\n",
        "  val3=df.iloc[i][3]         #Sleep\n",
        "  if val3==1 or val3==5:\n",
        "    sum+=1\n",
        "  val4=df.iloc[i][4]         #Appetite\n",
        "  if val4==2:\n",
        "    sum+=1\n",
        "  elif val4==3:\n",
        "    sum+=2\n",
        "  elif val4==4:\n",
        "    sum+=3\n",
        "  val6=df.iloc[i][6]         #StressOrAnxiety\n",
        "  if val6==2:\n",
        "    sum+=1\n",
        "  elif val6==3:\n",
        "    sum+=2\n",
        "  elif val6==4:\n",
        "    sum+=3\n",
        "  val8=df.iloc[i][8]         #Fatigue\n",
        "  if val8==2:\n",
        "    sum+=1\n",
        "  elif val8==3:\n",
        "    sum+=2\n",
        "  elif val8==4:\n",
        "    sum+=3\n",
        "  elif val8==5:\n",
        "    sum+=4\n",
        "  val9=df.iloc[i][9]         #InterestInThings\n",
        "  if val9==1:\n",
        "    sum+=4\n",
        "  elif val9==2:\n",
        "    sum+=3\n",
        "  elif val9==3:\n",
        "    sum+=2\n",
        "  elif val9==4:\n",
        "    sum+=1\n",
        "  val11=df.iloc[i][11]       #Addiction\n",
        "  if val11==2 or val11==3 or val11==4 or val11==5:\n",
        "    sum+=1\n",
        "  val14=df.iloc[i][14]       #TimeWithOthers\n",
        "  if val14==1:\n",
        "    sum+=2\n",
        "  elif val14==2:\n",
        "    sum+=1  \n",
        "  if sum in range(0,6):\n",
        "    group.append(0)   \n",
        "  elif sum in range(6,13):\n",
        "    group.append(1)   \n",
        "  elif sum in range(13,19):\n",
        "    group.append(2)\n",
        "     \n",
        "df[\"CalculatedMH\"]=group\n",
        "df.head()"
      ]
    },
    {
      "cell_type": "markdown",
      "metadata": {
        "id": "RacoDnqIUWsO"
      },
      "source": [
        "Graphs based on CalculatedMH"
      ]
    },
    {
      "cell_type": "code",
      "execution_count": 32,
      "metadata": {
        "colab": {
          "base_uri": "https://localhost:8080/",
          "height": 295
        },
        "id": "vNrGemuXwT_k",
        "outputId": "449177b8-fc3d-401b-c744-186bbdd8ed80"
      },
      "outputs": [
        {
          "output_type": "display_data",
          "data": {
            "image/png": "[encoded data removed]",
            "text/plain": [
              "<Figure size 432x288 with 1 Axes>"
            ]
          },
          "metadata": {
            "needs_background": "light"
          }
        }
      ],
      "source": [
        "labels=[\"Mild\",\"Moderate\",\"Severe\"]\n",
        "g = sns.countplot(x=\"CalculatedMH\", data=df, palette=\"rocket\")\n",
        "g.set_xticklabels(labels)\n",
        "plt.title('Total Distribuition by MentalIllness Probabilty')\n",
        "plt.show()"
      ]
    },
    {
      "cell_type": "code",
      "execution_count": 33,
      "metadata": {
        "colab": {
          "base_uri": "https://localhost:8080/",
          "height": 441
        },
        "id": "o3iREU2aESgJ",
        "outputId": "5dbad60e-b18f-4ec1-a361-b09098d335d1"
      },
      "outputs": [
        {
          "output_type": "display_data",
          "data": {
            "image/png": "[encoded data removed]",
            "text/plain": [
              "<Figure size 432x432 with 3 Axes>"
            ]
          },
          "metadata": {
            "needs_background": "light"
          }
        }
      ],
      "source": [
        "sns.jointplot(x=df.iloc[:,1], y=df.iloc[:,0], kind='scatter', hue=df.iloc[:,18], palette=\"crest\")\n",
        "plt.show()"
      ]
    },
    {
      "cell_type": "code",
      "execution_count": 34,
      "metadata": {
        "colab": {
          "base_uri": "https://localhost:8080/",
          "height": 441
        },
        "id": "dWmRntt4Wn8S",
        "outputId": "a1f0f8b8-11d7-40f0-ca97-a54078b04007"
      },
      "outputs": [
        {
          "output_type": "display_data",
          "data": {
            "image/png": "[encoded data removed]",
            "text/plain": [
              "<Figure size 432x432 with 3 Axes>"
            ]
          },
          "metadata": {
            "needs_background": "light"
          }
        }
      ],
      "source": [
        "g=sns.jointplot(x=df.iloc[:,3], y=df.iloc[:,0], kind='scatter', hue=df.iloc[:,18], palette=\"crest\")\n",
        "plt.show()"
      ]
    },
    {
      "cell_type": "code",
      "execution_count": 35,
      "metadata": {
        "colab": {
          "base_uri": "https://localhost:8080/",
          "height": 441
        },
        "id": "GkbmDo_2WsMS",
        "outputId": "b024655f-c358-4a7c-f082-59f92caf12e6"
      },
      "outputs": [
        {
          "output_type": "display_data",
          "data": {
            "image/png": "[encoded data removed]",
            "text/plain": [
              "<Figure size 432x432 with 3 Axes>"
            ]
          },
          "metadata": {
            "needs_background": "light"
          }
        }
      ],
      "source": [
        "g=sns.jointplot(x=df.iloc[:,4], y=df.iloc[:,0], kind='scatter', hue=df.iloc[:,18], palette=\"crest\")\n",
        "plt.show()"
      ]
    },
    {
      "cell_type": "code",
      "execution_count": 36,
      "metadata": {
        "colab": {
          "base_uri": "https://localhost:8080/",
          "height": 441
        },
        "id": "3WeLZiBo8J0Q",
        "outputId": "3d6e1920-aee2-4dc7-f1d2-ef5c1ea02115"
      },
      "outputs": [
        {
          "output_type": "display_data",
          "data": {
            "image/png": "[encoded data removed]",
            "text/plain": [
              "<Figure size 432x432 with 3 Axes>"
            ]
          },
          "metadata": {
            "needs_background": "light"
          }
        }
      ],
      "source": [
        "g=sns.jointplot(x=df.iloc[:,6], y=df.iloc[:,0], kind='scatter', hue=df.iloc[:,18], palette=\"crest\")\n",
        "plt.show()"
      ]
    },
    {
      "cell_type": "code",
      "execution_count": null,
      "metadata": {
        "id": "ybalorwdXdrm"
      },
      "outputs": [],
      "source": [
        "g=sns.jointplot(x=df.iloc[:,8], y=df.iloc[:,0], kind='scatter', hue=df.iloc[:,18], palette=\"crest\")\n",
        "plt.show()"
      ]
    },
    {
      "cell_type": "code",
      "execution_count": null,
      "metadata": {
        "id": "R7Fud7Murk8D"
      },
      "outputs": [],
      "source": [
        "g=sns.jointplot(x=df.iloc[:,9], y=df.iloc[:,0], kind='scatter', hue=df.iloc[:,18], palette=\"crest\")\n",
        "plt.show()"
      ]
    },
    {
      "cell_type": "code",
      "execution_count": null,
      "metadata": {
        "id": "Q4xHBVKwryuh"
      },
      "outputs": [],
      "source": [
        "g=sns.jointplot(x=df.iloc[:,11], y=df.iloc[:,0], kind='scatter', hue=df.iloc[:,18], palette=\"crest\")\n",
        "plt.show()"
      ]
    },
    {
      "cell_type": "code",
      "execution_count": null,
      "metadata": {
        "id": "jK_z21ZSsVN5"
      },
      "outputs": [],
      "source": [
        "g=sns.jointplot(x=df.iloc[:,14], y=df.iloc[:,0], kind='scatter', hue=df.iloc[:,18], palette=\"crest\")\n",
        "plt.show()"
      ]
    },
    {
      "cell_type": "code",
      "execution_count": null,
      "metadata": {
        "id": "9HHa6pdByRQ8"
      },
      "outputs": [],
      "source": [
        "labels=[\"Mild\",\"Moderate\",\"Severe\"]\n",
        "g = sns.catplot(x=\"CalculatedMH\", y=\"StressOrAnxiety\", hue=\"Age\", data=df, kind=\"bar\",\n",
        "                ci=None, height=5, aspect=2, legend_out = True, palette=\"rocket\")\n",
        "g.set_xticklabels(labels)\n",
        "plt.title('Probability of Mental Health Condition')\n",
        "plt.ylabel('StressOrAnxiety')\n",
        "plt.xlabel('CalculatedMH')\n",
        "plt.show()"
      ]
    },
    {
      "cell_type": "markdown",
      "metadata": {
        "id": "im1xmd-ly_k5"
      },
      "source": [
        "# Data Splitting"
      ]
    },
    {
      "cell_type": "code",
      "execution_count": null,
      "metadata": {
        "id": "4db2IXL-dQFI"
      },
      "outputs": [],
      "source": [
        "# define X and y\n",
        "X = df.iloc[:,[3,4,6,8,9,11,14]]\n",
        "y = df.CalculatedMH\n",
        "# split X and y into training and testing sets\n",
        "X_train, X_test, y_train, y_test = train_test_split(X, y, test_size=0.20, random_state=0)"
      ]
    },
    {
      "cell_type": "code",
      "execution_count": null,
      "metadata": {
        "id": "TvUm5ElSe7g0"
      },
      "outputs": [],
      "source": [
        "print(X_train.shape)\n",
        "print(X_test.shape)\n",
        "print(y_train.shape)\n",
        "print(y_test.shape)"
      ]
    },
    {
      "cell_type": "markdown",
      "source": [
        "# Cross Validation"
      ],
      "metadata": {
        "id": "zZ5gdw_dfC8m"
      }
    },
    {
      "cell_type": "markdown",
      "source": [
        "K-Fold cross validation\n"
      ],
      "metadata": {
        "id": "S4xholbafMnC"
      }
    },
    {
      "cell_type": "code",
      "execution_count": null,
      "metadata": {
        "id": "hm37-3Mie625"
      },
      "outputs": [],
      "source": [
        "knn_class=KNeighborsClassifier()\n",
        "kf=KFold(n_splits=5)\n",
        "score=cross_val_score(knn_class,X_train,y_train,cv=kf)\n",
        "print(\"Cross Validation Scores are {}\".format(score))\n",
        "print(\"Average Cross Validation score: {}\".format(score.mean()))"
      ]
    },
    {
      "cell_type": "code",
      "execution_count": null,
      "metadata": {
        "id": "wp1DhrUhfzwu"
      },
      "outputs": [],
      "source": [
        "dtree_class=DecisionTreeClassifier()\n",
        "kf=KFold(n_splits=5)\n",
        "score=cross_val_score(dtree_class,X_train,y_train,cv=kf)\n",
        "print(\"Cross Validation Scores are {}\".format(score))\n",
        "print(\"Average Cross Validation score: {}\".format(score.mean()))"
      ]
    },
    {
      "cell_type": "code",
      "execution_count": null,
      "metadata": {
        "id": "YmPkIjGCfFLR"
      },
      "outputs": [],
      "source": [
        "nb_class=GaussianNB()\n",
        "kf=KFold(n_splits=5)\n",
        "score=cross_val_score(nb_class,X_train,y_train,cv=kf)\n",
        "print(\"Cross Validation Scores are {}\".format(score))\n",
        "print(\"Average Cross Validation score: {}\".format(score.mean()))"
      ]
    },
    {
      "cell_type": "code",
      "execution_count": null,
      "metadata": {
        "id": "L6mxa_3zdlp7"
      },
      "outputs": [],
      "source": [
        "rf_class=RandomForestClassifier()\n",
        "kf=KFold(n_splits=5)\n",
        "score=cross_val_score(rf_class, X_train, y_train, cv=kf)\n",
        "print(\"Cross Validation Scores are {}\".format(score))\n",
        "print(\"Average Cross Validation score: {}\".format(score.mean()))"
      ]
    },
    {
      "cell_type": "code",
      "execution_count": null,
      "metadata": {
        "id": "934P3pjWfXBW"
      },
      "outputs": [],
      "source": [
        "gb_class=GradientBoostingClassifier()\n",
        "kf=KFold(n_splits=5)\n",
        "score=cross_val_score(gb_class,X_train,y_train,cv=kf)\n",
        "print(\"Cross Validation Scores are {}\".format(score))\n",
        "print(\"Average Cross Validation score: {}\".format(score.mean()))"
      ]
    },
    {
      "cell_type": "markdown",
      "metadata": {
        "id": "i7KBfEkzynto"
      },
      "source": [
        "# K-Nearest Neighbours"
      ]
    },
    {
      "cell_type": "code",
      "execution_count": null,
      "metadata": {
        "id": "R0UJ19WCpGRf"
      },
      "outputs": [],
      "source": [
        " \n",
        "k_range=range(1,21)\n",
        "scores_list=[]\n",
        "for k in k_range:\n",
        "  knn=KNeighborsClassifier(n_neighbors=k)\n",
        "  knn.fit(X_train,y_train)\n",
        "  y_pred=knn.predict(X_test)\n",
        "  scores_list.append(metrics.accuracy_score(y_test, y_pred))"
      ]
    },
    {
      "cell_type": "code",
      "execution_count": null,
      "metadata": {
        "id": "R0be-HsBrvSC"
      },
      "outputs": [],
      "source": [
        "fig, ax =plt.subplots()\n",
        "ax.set_xlim(0,21)\n",
        "ax.set_ylim(.75,1)\n",
        "plt.plot(k_range,scores_list)\n",
        "plt.xlabel(\"k Value\")\n",
        "plt.ylabel(\"Accuracy\")\n",
        "ax.xaxis.set_major_locator(MultipleLocator(1))\n",
        "ax.yaxis.set_major_locator(MultipleLocator(0.05))\n",
        "plt.grid(which=\"major\",linestyle=\"--\")\n",
        "plt.show()"
      ]
    },
    {
      "cell_type": "code",
      "execution_count": null,
      "metadata": {
        "id": "AnAC2CELwQWm"
      },
      "outputs": [],
      "source": [
        "knn = KNeighborsClassifier(n_neighbors=3)\n",
        "knn.fit(X_train,y_train)\n",
        "knn_pred=knn.predict(X_test)\n",
        "#print(knn_pred)\n",
        "print(metrics.accuracy_score(y_test, knn_pred))"
      ]
    },
    {
      "cell_type": "code",
      "execution_count": null,
      "metadata": {
        "id": "xUKog8iX1TYi"
      },
      "outputs": [],
      "source": [
        "cf_matrix = confusion_matrix(y_test, knn_pred)\n",
        "sns.heatmap(cf_matrix, annot=True, cmap=\"crest\")\n",
        "plt.xlabel(\"Actual\")\n",
        "plt.ylabel(\"Predicted\")\n",
        "plt.title(\"Confusion Matrix\", fontsize=15)\n",
        "plt.show()"
      ]
    },
    {
      "cell_type": "markdown",
      "metadata": {
        "id": "Ls1-9UCty6_E"
      },
      "source": [
        "# Decision Tree"
      ]
    },
    {
      "cell_type": "code",
      "execution_count": null,
      "metadata": {
        "id": "EmiDSrFOAfja"
      },
      "outputs": [],
      "source": [
        "dtree = DecisionTreeClassifier()\n",
        "dtree.fit(X_train, y_train)\n",
        "dtree_pred = dtree.predict(X_test)\n",
        "#print(dtree_pred)\n",
        "print(metrics.accuracy_score(y_test, dtree_pred))"
      ]
    },
    {
      "cell_type": "code",
      "execution_count": null,
      "metadata": {
        "id": "g3IjHUwz49su"
      },
      "outputs": [],
      "source": [
        "cf_matrix = confusion_matrix(y_test, dtree_pred)\n",
        "sns.heatmap(cf_matrix, annot=True, cmap=\"crest\")\n",
        "plt.xlabel(\"Actual\")\n",
        "plt.ylabel(\"Predicted\")\n",
        "plt.title(\"Confusion Matrix\", fontsize=15)\n",
        "plt.show()"
      ]
    },
    {
      "cell_type": "markdown",
      "metadata": {
        "id": "DTdlduv_zEC2"
      },
      "source": [
        "# Naive Bayes"
      ]
    },
    {
      "cell_type": "code",
      "execution_count": null,
      "metadata": {
        "id": "3mYC-bdpCHTa"
      },
      "outputs": [],
      "source": [
        "nb = GaussianNB()\n",
        "nb.fit(X_train, y_train)\n",
        "nb_pred = nb.predict(X_test)\n",
        "#print(nb_pred)\n",
        "print(metrics.accuracy_score(y_test, nb_pred))"
      ]
    },
    {
      "cell_type": "code",
      "execution_count": null,
      "metadata": {
        "id": "yB0OlcTg5CIM"
      },
      "outputs": [],
      "source": [
        "cf_matrix = confusion_matrix(y_test, nb_pred)\n",
        "sns.heatmap(cf_matrix, annot=True, cmap=\"crest\")\n",
        "plt.xlabel(\"Actual\")\n",
        "plt.ylabel(\"Predicted\")\n",
        "plt.title(\"Confusion Matrix\", fontsize=15)\n",
        "plt.show()"
      ]
    },
    {
      "cell_type": "markdown",
      "metadata": {
        "id": "OCvSjei22OXI"
      },
      "source": [
        "# Random Forest"
      ]
    },
    {
      "cell_type": "code",
      "execution_count": null,
      "metadata": {
        "id": "WFD4lJiVRrCc"
      },
      "outputs": [],
      "source": [
        "rf = RandomForestClassifier()\n",
        "rf.fit(X_train, y_train)\n",
        "rf_pred = rf.predict(X_test)\n",
        "#print(rf_pred)\n",
        "print(metrics.accuracy_score(y_test, rf_pred))"
      ]
    },
    {
      "cell_type": "code",
      "execution_count": null,
      "metadata": {
        "id": "b35N6sK75GKd"
      },
      "outputs": [],
      "source": [
        "cf_matrix = confusion_matrix(y_test, rf_pred)\n",
        "sns.heatmap(cf_matrix, annot=True, cmap=\"crest\")\n",
        "plt.xlabel(\"Actual\")\n",
        "plt.ylabel(\"Predicted\")\n",
        "plt.title(\"Confusion Matrix\", fontsize=15)\n",
        "plt.show()"
      ]
    },
    {
      "cell_type": "markdown",
      "metadata": {
        "id": "73izjKdE2yTE"
      },
      "source": [
        "# Gradient Boosting"
      ]
    },
    {
      "cell_type": "code",
      "execution_count": null,
      "metadata": {
        "id": "KSAn78VN27tQ"
      },
      "outputs": [],
      "source": [
        "gb = GradientBoostingClassifier()\n",
        "gb.fit(X_train,y_train)\n",
        "gb_pred = gb.predict(X_test)\n",
        "#print(gb_pred)\n",
        "print(metrics.accuracy_score(y_test, gb_pred))"
      ]
    },
    {
      "cell_type": "code",
      "execution_count": null,
      "metadata": {
        "id": "PXmFWnPa5J-T"
      },
      "outputs": [],
      "source": [
        "cf_matrix = confusion_matrix(y_test, gb_pred)\n",
        "sns.heatmap(cf_matrix, annot=True, cmap=\"crest\")\n",
        "plt.xlabel(\"Actual\")\n",
        "plt.ylabel(\"Predicted\")\n",
        "plt.title(\"Confusion Matrix\", fontsize=15)\n",
        "plt.show()"
      ]
    },
    {
      "cell_type": "markdown",
      "metadata": {
        "id": "QiChkV-sOh4B"
      },
      "source": [
        "# Observation"
      ]
    },
    {
      "cell_type": "code",
      "execution_count": null,
      "metadata": {
        "id": "fP5XD5QBgMx9"
      },
      "outputs": [],
      "source": [
        "Acc_list=[]\n",
        "Acc_list.append(100*metrics.accuracy_score(y_test, knn_pred))\n",
        "Acc_list.append(100*metrics.accuracy_score(y_test, dtree_pred))\n",
        "Acc_list.append(100*metrics.accuracy_score(y_test, nb_pred))\n",
        "Acc_list.append(100*metrics.accuracy_score(y_test, rf_pred))\n",
        "Acc_list.append(100*metrics.accuracy_score(y_test, gb_pred))\n",
        "Algo_list=[\"k Nearest Neighbour\",\"Decision Tree\",\"Naive Bayes\",\"Random Forest\",\"Gradient Boosting\"]\n",
        "for i in range(5):\n",
        "  print(Algo_list[i],'-',Acc_list[i])\n",
        "plt.figure(figsize=(9,5))\n",
        "ax = sns.barplot(x=Algo_list, y=Acc_list, palette=\"crest\")\n",
        "plt.xlabel(\"Machine Learning Algorithm\")\n",
        "plt.ylabel(\"Accuracy\")\n",
        "plt.title(\"Accuracy vs Machine Learning Algorithm\", fontsize=15)\n",
        "plt.show()\n",
        " "
      ]
    }
  ],
  "metadata": {
    "colab": {
      "collapsed_sections": [],
      "name": " MentalHealth_EndSemesterProject.ipynb",
      "provenance": [],
      "include_colab_link": true
    },
    "kernelspec": {
      "display_name": "Python 3",
      "name": "python3"
    },
    "language_info": {
      "name": "python"
    }
  },
  "nbformat": 4,
  "nbformat_minor": 0
}